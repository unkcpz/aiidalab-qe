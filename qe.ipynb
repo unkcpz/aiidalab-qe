{
 "cells": [
  {
   "cell_type": "code",
   "execution_count": 1,
   "metadata": {},
   "outputs": [
    {
     "data": {
      "application/javascript": [
       "IPython.OutputArea.prototype._should_scroll = function(lines) {\n",
       "    return false;\n",
       "}\n"
      ],
      "text/plain": [
       "<IPython.core.display.Javascript object>"
      ]
     },
     "metadata": {},
     "output_type": "display_data"
    }
   ],
   "source": [
    "%%javascript\n",
    "IPython.OutputArea.prototype._should_scroll = function(lines) {\n",
    "    return false;\n",
    "}"
   ]
  },
  {
   "cell_type": "code",
   "execution_count": 2,
   "metadata": {},
   "outputs": [],
   "source": [
    "# Fix pybel import path\n",
    "try:\n",
    "    import sys\n",
    "    sys.modules['pybel'] = __import__('openbabel', globals(), locals(), ['pybel']).pybel\n",
    "except Exception:\n",
    "    pass"
   ]
  },
  {
   "cell_type": "code",
   "execution_count": 3,
   "metadata": {
    "scrolled": false
   },
   "outputs": [
    {
     "data": {
      "application/vnd.jupyter.widget-view+json": {
       "model_id": "2d27b25b6d574aeab770b5ffa4a7d1b2",
       "version_major": 2,
       "version_minor": 0
      },
      "text/plain": []
     },
     "metadata": {},
     "output_type": "display_data"
    },
    {
     "data": {
      "application/vnd.jupyter.widget-view+json": {
       "model_id": "8d40ca1b662e4bdc9828d88431728a2b",
       "version_major": 2,
       "version_minor": 0
      },
      "text/plain": [
       "Output()"
      ]
     },
     "metadata": {},
     "output_type": "display_data"
    }
   ],
   "source": [
    "import ipywidgets as ipw\n",
    "from jinja2 import Environment\n",
    "from importlib_resources import files\n",
    "\n",
    "from aiida.orm import StructureData\n",
    "from aiida.orm import load_node\n",
    "from aiidalab_widgets_base import OptimadeQueryWidget\n",
    "from aiidalab_widgets_base import StructureBrowserWidget, StructureManagerWidget, StructureUploadWidget, StructureExamplesWidget\n",
    "from aiidalab_widgets_base import WizardAppWidget\n",
    "from aiidalab_widgets_base.bug_report import install_create_github_issue_exception_handler\n",
    "\n",
    "from aiidalab_qe import static\n",
    "from aiidalab_qe.process import WorkChainSelector\n",
    "from aiidalab_qe.steps import SubmitQeAppWorkChainStep\n",
    "from aiidalab_qe.steps import ViewQeAppWorkChainStatusAndResultsStep\n",
    "from aiidalab_qe.structures import StructureSelectionStep\n",
    "\n",
    "\n",
    "OptimadeQueryWidget.title = \"OPTIMADE\"  # monkeypatch\n",
    "\n",
    "\n",
    "# Create the application steps\n",
    "structure_manager_widget = StructureManagerWidget(\n",
    "    importers=[\n",
    "        StructureUploadWidget(title=\"Upload file\"),\n",
    "        OptimadeQueryWidget(embedded=False),\n",
    "        StructureBrowserWidget(title=\"AiiDA database\"),\n",
    "        StructureExamplesWidget(\n",
    "            title=\"From Examples\",\n",
    "            examples=[\n",
    "                (\"Silicon oxide\", \"miscellaneous/structures/SiO2.xyz\"),\n",
    "                (\"Silicon\", \"miscellaneous/structures/Si.xyz\"),\n",
    "                (\"Gold-Fcc\", \"miscellaneous/structures/Au.xyz\"),\n",
    "            ]),\n",
    "    ],\n",
    "    node_class='StructureData',\n",
    "    storable=False,\n",
    ")\n",
    "structure_selection_step = StructureSelectionStep(manager=structure_manager_widget)\n",
    "structure_selection_step.auto_advance = True\n",
    "submit_qe_app_work_chain_step = SubmitQeAppWorkChainStep()\n",
    "submit_qe_app_work_chain_step.auto_advance = True\n",
    "view_qe_app_work_chain_status_and_results_step = ViewQeAppWorkChainStatusAndResultsStep()\n",
    "\n",
    "# Link the application steps\n",
    "ipw.dlink((structure_selection_step, 'confirmed_structure'), (submit_qe_app_work_chain_step, 'input_structure'))\n",
    "ipw.dlink((submit_qe_app_work_chain_step, 'process'), (view_qe_app_work_chain_status_and_results_step, 'process'))\n",
    "\n",
    "# Add the application steps to the application\n",
    "app = WizardAppWidget(\n",
    "    steps=[\n",
    "        ('Select structure', structure_selection_step),\n",
    "        ('Submit work chain', submit_qe_app_work_chain_step),\n",
    "        ('Status & Results', view_qe_app_work_chain_status_and_results_step),\n",
    "    ])\n",
    "\n",
    "# Reset all subsequent steps in case that a new structure is selected\n",
    "def _observe_structure_selection(change):\n",
    "    with structure_selection_step.hold_sync():\n",
    "        if structure_selection_step.confirmed_structure is not None and \\\n",
    "                structure_selection_step.confirmed_structure != change['new']:\n",
    "            app.reset()\n",
    "structure_selection_step.observe(_observe_structure_selection, 'structure')\n",
    "\n",
    "# Add process selection header\n",
    "work_chain_selector = WorkChainSelector(layout=ipw.Layout(width='auto'))\n",
    "\n",
    "def _observe_process_selection(change):\n",
    "    if change['old'] == change['new']:\n",
    "        return\n",
    "    pk = change['new']\n",
    "    if pk is None:\n",
    "        app.reset()\n",
    "        app.selected_index = 0\n",
    "    else:\n",
    "        process = load_node(pk)\n",
    "        with structure_manager_widget.hold_sync():\n",
    "            with structure_selection_step.hold_sync():\n",
    "                structure_manager_widget.structure = process.inputs.structure\n",
    "                structure_selection_step.structure = process.inputs.structure\n",
    "                structure_selection_step.confirmed_structure = process.inputs.structure\n",
    "                submit_qe_app_work_chain_step.process = process\n",
    "        \n",
    "work_chain_selector.observe(_observe_process_selection, 'value')    \n",
    "ipw.dlink((submit_qe_app_work_chain_step, 'process'), (work_chain_selector, 'value'),\n",
    "          transform=lambda node: None if node is None else node.pk)\n",
    "\n",
    "env = Environment()\n",
    "\n",
    "template = files(static).joinpath(\"welcome.jinja\").read_text()\n",
    "style = files(static).joinpath(\"style.css\").read_text()\n",
    "welcome_message = ipw.HTML(env.from_string(template).render(style=style))\n",
    "\n",
    "app_with_work_chain_selector = ipw.VBox(children=[work_chain_selector, app])\n",
    "\n",
    "output = ipw.Output()\n",
    "install_create_github_issue_exception_handler(\n",
    "    output,\n",
    "    url='https://github.com/aiidalab/aiidalab-qe/issues/new',\n",
    "    labels=('bug', 'automated-report'))\n",
    "\n",
    "with output:\n",
    "    display(welcome_message, app_with_work_chain_selector)\n",
    "    \n",
    "display(output)"
   ]
  },
  {
   "cell_type": "code",
   "execution_count": 4,
   "metadata": {},
   "outputs": [
    {
     "data": {
      "text/plain": [
       "{'relax_type': 'positions_cell',\n",
       " 'electronic_type': 'metal',\n",
       " 'spin_type': 'none',\n",
       " 'run_bands': False,\n",
       " 'protocol': 'moderate',\n",
       " 'pw_code': '22dbe971-3c09-4a72-8bf2-1a0a22eaba79',\n",
       " 'pseudo_family': 'SSSP/1.1/PBEsol/efficiency'}"
      ]
     },
     "execution_count": 4,
     "metadata": {},
     "output_type": "execute_result"
    }
   ],
   "source": [
    "submit_qe_app_work_chain_step.get_input_parameters()"
   ]
  },
  {
   "cell_type": "code",
   "execution_count": null,
   "metadata": {},
   "outputs": [],
   "source": []
  }
 ],
 "metadata": {
  "kernelspec": {
   "display_name": "Python 3 (ipykernel)",
   "language": "python",
   "name": "python3"
  },
  "language_info": {
   "codemirror_mode": {
    "name": "ipython",
    "version": 3
   },
   "file_extension": ".py",
   "mimetype": "text/x-python",
   "name": "python",
   "nbconvert_exporter": "python",
   "pygments_lexer": "ipython3",
   "version": "3.7.9"
  }
 },
 "nbformat": 4,
 "nbformat_minor": 4
}
